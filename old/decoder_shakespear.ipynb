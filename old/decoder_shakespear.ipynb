{
  "cells": [
    {
      "cell_type": "code",
      "metadata": {},
      "source": [
        "from module import TransformerDecoder\n",
        "import pandas as pd\n",
        "import torch.nn as nn\n",
        "import torch.optim as optim\n",
        "import torch"
      ],
      "execution_count": null,
      "outputs": []
    },
    {
      "cell_type": "code",
      "metadata": {},
      "source": [
        "from char_dataset import CharDataset \n",
        "shakespeare_dataset = CharDataset(\"shakespeare.txt\", block_size=128)"
      ],
      "execution_count": null,
      "outputs": []
    },
    {
      "cell_type": "code",
      "metadata": {},
      "source": [
        "from torch.utils.data import DataLoader\n",
        "dataloader = DataLoader(shakespeare_dataset, batch_size=32, shuffle=True)"
      ],
      "execution_count": null,
      "outputs": []
    },
    {
      "cell_type": "markdown",
      "metadata": {},
      "source": [
        "# Training"
      ]
    },
    {
      "cell_type": "code",
      "metadata": {},
      "source": [
        "decoder = TransformerDecoder(vocab_size=shakespeare_dataset.get_vocab_size(),\n",
        "                           d_model=128,\n",
        "                           n_layers=12,\n",
        "                           n_heads=8,\n",
        "                           d_ff=100,\n",
        "                           max_len=512,\n",
        "                           dropout=0.1)\n",
        "\n",
        "criterion = nn.CrossEntropyLoss()\n",
        "optimizer = optim.Adam(decoder.parameters(), lr=0.001)\n",
        "\n",
        "for epoch in range(1):\n",
        "    for input_data, target_data in dataloader:\n",
        "        optimizer.zero_grad() \n",
        "        output = decoder(input_data)\n",
        "\t\tloss = criterion(output, target_data)\n",
        "\t\tloss.backward() \n",
        "\t\toptimizer.step()"
      ],
      "execution_count": null,
      "outputs": []
    }
  ],
  "metadata": {
    "kernelspec": {
      "name": "mon_noyau_python3",
      "language": "python",
      "display_name": "Python 3"
    }
  },
  "nbformat": 4,
  "nbformat_minor": 4
}